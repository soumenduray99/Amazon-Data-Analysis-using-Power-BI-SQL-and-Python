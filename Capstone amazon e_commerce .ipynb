{
 "cells": [
  {
   "cell_type": "markdown",
   "id": "66f77d72-c7eb-4bcc-aaf4-18e3b26e60e7",
   "metadata": {},
   "source": [
    "# Capstone Amazon E_Commerce"
   ]
  },
  {
   "cell_type": "markdown",
   "id": "452b2a9e-2958-4291-be72-3c4384365747",
   "metadata": {},
   "source": [
    "## Import Libraries"
   ]
  },
  {
   "cell_type": "code",
   "execution_count": 119,
   "id": "bf627f25-e75f-4b3b-9334-c1e804f01335",
   "metadata": {},
   "outputs": [],
   "source": [
    "import numpy as np\n",
    "import pandas as pd\n",
    "import pymysql as sql"
   ]
  },
  {
   "cell_type": "markdown",
   "id": "61bd8af9-726b-460b-a62d-e07c0f4b0817",
   "metadata": {},
   "source": [
    "## Import Data"
   ]
  },
  {
   "cell_type": "code",
   "execution_count": 121,
   "id": "f7afc540-7a94-42a3-8dc2-b48838a4ed45",
   "metadata": {},
   "outputs": [],
   "source": [
    "cs=pd.read_csv('C:\\\\Users\\\\HP\\\\Python PGA_49\\\\Capstone Project\\\\Import Data\\\\Customer.csv')\n",
    "pr=pd.read_csv('C:\\\\Users\\\\HP\\\\Python PGA_49\\\\Capstone Project\\\\Import Data\\\\Products.csv')\n",
    "od=pd.read_csv('C:\\\\Users\\\\HP\\\\Python PGA_49\\\\Capstone Project\\\\Import Data\\\\Orders.csv')\n",
    "tr=pd.read_csv('C:\\\\Users\\\\HP\\\\Python PGA_49\\\\Capstone Project\\\\Import Data\\\\Transactions.csv')\n",
    "rt=pd.read_csv('C:\\\\Users\\\\HP\\\\Python PGA_49\\\\Capstone Project\\\\Import Data\\\\Ratings.csv')\n",
    "sp=pd.read_csv('C:\\\\Users\\\\HP\\\\Python PGA_49\\\\Capstone Project\\\\Import Data\\\\Subscription_Plan.csv')\n",
    "sd=pd.read_csv('C:\\\\Users\\\\HP\\\\Python PGA_49\\\\Capstone Project\\\\Import Data\\\\Subscription_Details.csv')\n",
    "dv=pd.read_csv('C:\\\\Users\\\\HP\\\\Python PGA_49\\\\Capstone Project\\\\Import Data\\\\Delievry.csv')\n",
    "rr=pd.read_csv('C:\\\\Users\\\\HP\\\\Python PGA_49\\\\Capstone Project\\\\Import Data\\\\Returns_Refund.csv')\n"
   ]
  },
  {
   "cell_type": "code",
   "execution_count": 129,
   "id": "221f8cc0-7621-46a0-b2ec-7e65310134ad",
   "metadata": {},
   "outputs": [
    {
     "data": {
      "text/html": [
       "<div>\n",
       "<style scoped>\n",
       "    .dataframe tbody tr th:only-of-type {\n",
       "        vertical-align: middle;\n",
       "    }\n",
       "\n",
       "    .dataframe tbody tr th {\n",
       "        vertical-align: top;\n",
       "    }\n",
       "\n",
       "    .dataframe thead th {\n",
       "        text-align: right;\n",
       "    }\n",
       "</style>\n",
       "<table border=\"1\" class=\"dataframe\">\n",
       "  <thead>\n",
       "    <tr style=\"text-align: right;\">\n",
       "      <th></th>\n",
       "      <th>P_ID</th>\n",
       "      <th>PName</th>\n",
       "      <th>Category</th>\n",
       "      <th>Specs1</th>\n",
       "      <th>Price</th>\n",
       "    </tr>\n",
       "  </thead>\n",
       "  <tbody>\n",
       "    <tr>\n",
       "      <th>0</th>\n",
       "      <td>PD_21000001</td>\n",
       "      <td>Threat</td>\n",
       "      <td>Fashion</td>\n",
       "      <td>test</td>\n",
       "      <td>332.77</td>\n",
       "    </tr>\n",
       "    <tr>\n",
       "      <th>1</th>\n",
       "      <td>PD_21000002</td>\n",
       "      <td>Former</td>\n",
       "      <td>Home Appliance</td>\n",
       "      <td>successful</td>\n",
       "      <td>225.24</td>\n",
       "    </tr>\n",
       "  </tbody>\n",
       "</table>\n",
       "</div>"
      ],
      "text/plain": [
       "          P_ID   PName        Category      Specs1   Price\n",
       "0  PD_21000001  Threat         Fashion        test  332.77\n",
       "1  PD_21000002  Former  Home Appliance  successful  225.24"
      ]
     },
     "execution_count": 129,
     "metadata": {},
     "output_type": "execute_result"
    }
   ],
   "source": [
    "pr.head(2)"
   ]
  },
  {
   "cell_type": "code",
   "execution_count": 66,
   "id": "50e01288-0370-44bd-9727-dfd46b2ea47f",
   "metadata": {},
   "outputs": [
    {
     "name": "stdout",
     "output_type": "stream",
     "text": [
      "Customers: (10184, 8)\n",
      "Products: (10000, 5)\n",
      "Orders: (10000, 8)\n",
      "Transactions: (10000, 4)\n",
      "Ratings: (10000, 4)\n",
      "Subscription_Plan: (3, 3)\n",
      "Subscription_Details: (10036, 5)\n",
      "Delivery: (325, 3)\n",
      "Returns_Refund: (2000, 5)\n"
     ]
    }
   ],
   "source": [
    "# Shape of all data (in rows and columns)\n",
    "\n",
    "print('Customers:',cs.shape)\n",
    "print('Products:',pr.shape)\n",
    "print('Orders:',od.shape)\n",
    "print('Transactions:',tr.shape)\n",
    "print('Ratings:',rt.shape)\n",
    "print('Subscription_Plan:',sp.shape)\n",
    "print('Subscription_Details:',sd.shape)\n",
    "print('Delivery:',dv.shape)\n",
    "print('Returns_Refund:',rr.shape)\n"
   ]
  },
  {
   "cell_type": "markdown",
   "id": "6d5bff32-ad44-4536-804f-57be523c990a",
   "metadata": {},
   "source": [
    "## Data Preprocessing"
   ]
  },
  {
   "cell_type": "markdown",
   "id": "c9bee3c5-a60f-42be-b10e-6cf7df97f87f",
   "metadata": {},
   "source": [
    "### Handling Duplicate values"
   ]
  },
  {
   "cell_type": "code",
   "execution_count": 70,
   "id": "263bcd58-f229-490e-8ec1-b63ef797da9e",
   "metadata": {},
   "outputs": [],
   "source": [
    "cs.duplicated().sum()\n",
    "cs.drop_duplicates(keep='first',inplace=True)"
   ]
  },
  {
   "cell_type": "code",
   "execution_count": 72,
   "id": "58191d6a-072c-4097-8b7f-b689b4a2ade9",
   "metadata": {},
   "outputs": [
    {
     "data": {
      "text/plain": [
       "0"
      ]
     },
     "execution_count": 72,
     "metadata": {},
     "output_type": "execute_result"
    }
   ],
   "source": [
    "pr.duplicated().sum()"
   ]
  },
  {
   "cell_type": "code",
   "execution_count": 74,
   "id": "2b4f18fa-6cfe-47ae-be17-bad1dc5c0976",
   "metadata": {},
   "outputs": [
    {
     "data": {
      "text/plain": [
       "0"
      ]
     },
     "execution_count": 74,
     "metadata": {},
     "output_type": "execute_result"
    }
   ],
   "source": [
    "od.duplicated().sum()"
   ]
  },
  {
   "cell_type": "code",
   "execution_count": 76,
   "id": "f37abf0d-6e0c-40d9-8af8-ed6f4c221d7b",
   "metadata": {},
   "outputs": [
    {
     "data": {
      "text/plain": [
       "0"
      ]
     },
     "execution_count": 76,
     "metadata": {},
     "output_type": "execute_result"
    }
   ],
   "source": [
    "tr.duplicated().sum()"
   ]
  },
  {
   "cell_type": "code",
   "execution_count": 78,
   "id": "ad0cc86b-cce8-49b4-b00d-af61f9734e48",
   "metadata": {},
   "outputs": [],
   "source": [
    "rt.duplicated().sum()\n",
    "rt.drop_duplicates(keep='first',inplace=True)"
   ]
  },
  {
   "cell_type": "code",
   "execution_count": 80,
   "id": "fcb04375-1c0a-4697-9c62-709dd69b3608",
   "metadata": {},
   "outputs": [
    {
     "data": {
      "text/plain": [
       "0"
      ]
     },
     "execution_count": 80,
     "metadata": {},
     "output_type": "execute_result"
    }
   ],
   "source": [
    "sp.duplicated().sum()"
   ]
  },
  {
   "cell_type": "code",
   "execution_count": 82,
   "id": "1a2b5719-4052-46a0-8627-22edc568def3",
   "metadata": {},
   "outputs": [],
   "source": [
    "sd.duplicated().sum()\n",
    "sd.drop_duplicates(keep='first',inplace=True)"
   ]
  },
  {
   "cell_type": "code",
   "execution_count": 84,
   "id": "507fc44d-47a1-49eb-9025-e64a60eaa859",
   "metadata": {},
   "outputs": [],
   "source": [
    "dv.duplicated().sum()\n",
    "dv.drop_duplicates(keep='first',inplace=True)"
   ]
  },
  {
   "cell_type": "code",
   "execution_count": 86,
   "id": "9541fed7-0727-400b-9017-a3e64b8a8b10",
   "metadata": {},
   "outputs": [
    {
     "data": {
      "text/plain": [
       "0"
      ]
     },
     "execution_count": 86,
     "metadata": {},
     "output_type": "execute_result"
    }
   ],
   "source": [
    "rr.duplicated().sum()"
   ]
  },
  {
   "cell_type": "code",
   "execution_count": 88,
   "id": "bea2dd13-135e-44f0-a901-610979f7d77b",
   "metadata": {},
   "outputs": [
    {
     "name": "stdout",
     "output_type": "stream",
     "text": [
      "Customers: (10000, 8)\n",
      "Products: (10000, 5)\n",
      "Orders: (10000, 8)\n",
      "Transactions: (10000, 4)\n",
      "Ratings: (10000, 4)\n",
      "Subscription_Plan: (3, 3)\n",
      "Subscription_Details: (10036, 5)\n",
      "Delivery: (300, 3)\n",
      "Returns_Refund: (2000, 5)\n"
     ]
    }
   ],
   "source": [
    "# Checking Shape of all data \n",
    "\n",
    "print('Customers:',cs.shape)\n",
    "print('Products:',pr.shape)\n",
    "print('Orders:',od.shape)\n",
    "print('Transactions:',tr.shape)\n",
    "print('Ratings:',rt.shape)\n",
    "print('Subscription_Plan:',sp.shape)\n",
    "print('Subscription_Details:',sd.shape)\n",
    "print('Delivery:',dv.shape)\n",
    "print('Returns_Refund:',rr.shape)\n"
   ]
  },
  {
   "cell_type": "markdown",
   "id": "68dea399-b757-43a6-b896-04825be6e3ef",
   "metadata": {},
   "source": [
    "### Handling Null Values"
   ]
  },
  {
   "cell_type": "code",
   "execution_count": 91,
   "id": "c1965dc2-0ee5-4efd-93d6-58b40bd0e01c",
   "metadata": {},
   "outputs": [
    {
     "data": {
      "text/plain": [
       "C_ID              0\n",
       "C_Name            0\n",
       "Gender            0\n",
       "Age               0\n",
       "City              0\n",
       "State             0\n",
       "Street Address    0\n",
       "Mobile            0\n",
       "dtype: int64"
      ]
     },
     "execution_count": 91,
     "metadata": {},
     "output_type": "execute_result"
    }
   ],
   "source": [
    "cs.isna().sum()"
   ]
  },
  {
   "cell_type": "code",
   "execution_count": 93,
   "id": "72545aa2-f7c6-4380-b42c-81ca7504a575",
   "metadata": {},
   "outputs": [],
   "source": [
    "pr.isna().sum()\n",
    "pr.dropna(inplace=True)"
   ]
  },
  {
   "cell_type": "code",
   "execution_count": 95,
   "id": "3125908b-de19-4842-aa61-3ffceac16622",
   "metadata": {},
   "outputs": [],
   "source": [
    "od.isna().sum()\n",
    "od['Coupon']=od['Coupon'].fillna('No Coupon')"
   ]
  },
  {
   "cell_type": "code",
   "execution_count": 97,
   "id": "75b2bd95-9a81-4545-bf89-45b595da07f0",
   "metadata": {},
   "outputs": [],
   "source": [
    "tr.isna().sum()\n",
    "tr['Transaction_Mode']=tr['Transaction_Mode'].fillna('Other MOP')"
   ]
  },
  {
   "cell_type": "code",
   "execution_count": 99,
   "id": "9898e96e-a447-410e-84ce-48d5ac0d9db8",
   "metadata": {},
   "outputs": [],
   "source": [
    "rt.isna().sum()\n",
    "rt['Prod_Rating']=rt['Prod_Rating'].fillna(round(rt['Prod_Rating'].mean(),1))\n",
    "rt['Delivery/Service_Rating']=rt['Delivery/Service_Rating'].fillna(round(rt['Delivery/Service_Rating'].mean(),1))"
   ]
  },
  {
   "cell_type": "code",
   "execution_count": 101,
   "id": "c0369330-5753-4072-9af5-69314b44201e",
   "metadata": {},
   "outputs": [
    {
     "data": {
      "text/plain": [
       "Plan_ID      0\n",
       "Plan_Name    0\n",
       "Features     0\n",
       "dtype: int64"
      ]
     },
     "execution_count": 101,
     "metadata": {},
     "output_type": "execute_result"
    }
   ],
   "source": [
    "sp.isna().sum()"
   ]
  },
  {
   "cell_type": "code",
   "execution_count": 103,
   "id": "1bcaf561-d8d4-4da0-8700-a4fbfa4e2e9f",
   "metadata": {},
   "outputs": [
    {
     "data": {
      "text/plain": [
       "SD_ID        0\n",
       "C_ID         0\n",
       "Plan_ID      0\n",
       "From_Date    0\n",
       "To_Date      0\n",
       "dtype: int64"
      ]
     },
     "execution_count": 103,
     "metadata": {},
     "output_type": "execute_result"
    }
   ],
   "source": [
    "sd.isna().sum()"
   ]
  },
  {
   "cell_type": "code",
   "execution_count": 105,
   "id": "8bb8f5b9-bcd6-48ad-9c96-093ff1eb93ce",
   "metadata": {},
   "outputs": [],
   "source": [
    "dv.isna().sum()\n",
    "dv['DP_Ratings']=dv['DP_Ratings'].fillna(round(dv['DP_Ratings'].mean(),1))"
   ]
  },
  {
   "cell_type": "code",
   "execution_count": 107,
   "id": "6ba855a5-0725-40f7-bb9c-cf14442eb1d4",
   "metadata": {},
   "outputs": [
    {
     "data": {
      "text/plain": [
       "RT_ID            0\n",
       "Or_ID            0\n",
       "Reason           0\n",
       "Return/Refund    0\n",
       "Date             0\n",
       "dtype: int64"
      ]
     },
     "execution_count": 107,
     "metadata": {},
     "output_type": "execute_result"
    }
   ],
   "source": [
    "rr.isna().sum()"
   ]
  },
  {
   "cell_type": "markdown",
   "id": "3d3e2c41-3cd6-4e56-9120-daee1c68d6b3",
   "metadata": {},
   "source": [
    "### Drop unnecessary columns"
   ]
  },
  {
   "cell_type": "code",
   "execution_count": 110,
   "id": "91993bf4-962c-426f-91aa-edc109be9192",
   "metadata": {},
   "outputs": [],
   "source": [
    "od.drop(['Order_Time'],axis=1,inplace=True)"
   ]
  },
  {
   "cell_type": "markdown",
   "id": "99561ec0-6ea0-4186-8057-389b2b407293",
   "metadata": {},
   "source": [
    "### Changing Datatype"
   ]
  },
  {
   "cell_type": "code",
   "execution_count": 113,
   "id": "c2ff759b-deec-4d34-96fc-fbde4b228b69",
   "metadata": {},
   "outputs": [],
   "source": [
    "od['Order_Date']=pd.to_datetime(od['Order_Date'])"
   ]
  },
  {
   "cell_type": "code",
   "execution_count": 115,
   "id": "1ce9a6e7-5580-46ef-8f12-59029e28e739",
   "metadata": {},
   "outputs": [],
   "source": [
    "sd['From_Date']=pd.to_datetime(sd['From_Date'])\n",
    "sd['To_Date']=pd.to_datetime(sd['To_Date'])\n"
   ]
  },
  {
   "cell_type": "code",
   "execution_count": 117,
   "id": "cab88be2-ec6a-4b9c-8dd4-60e55ee66b99",
   "metadata": {},
   "outputs": [],
   "source": [
    "rr['Date']=pd.to_datetime( rr['Date'])"
   ]
  },
  {
   "cell_type": "markdown",
   "id": "ebccd67a-d66b-4b21-a61d-e422c4eb4a20",
   "metadata": {},
   "source": [
    "## Exporting data to MySql "
   ]
  },
  {
   "cell_type": "code",
   "execution_count": 357,
   "id": "6902d20a-6aad-4fdf-b86d-c0bc281db595",
   "metadata": {},
   "outputs": [
    {
     "data": {
      "text/plain": [
       "<pymysql.cursors.Cursor at 0x1cea5047b60>"
      ]
     },
     "execution_count": 357,
     "metadata": {},
     "output_type": "execute_result"
    }
   ],
   "source": [
    "sql=sql.connect(user='root',password='12345',host='localhost',database='Capstone_amazon_PGA49')\n",
    "sl=sql.cursor()\n",
    "sl"
   ]
  },
  {
   "cell_type": "code",
   "execution_count": 638,
   "id": "09f99389-5e15-48db-87ab-265f998a4b92",
   "metadata": {},
   "outputs": [],
   "source": [
    "# Export into customer sql table \n",
    "cs_i=''' insert into customer values (%s,%s,%s,%s,%s,%s,%s,%s);''' \n",
    "cs_vl=[tuple(i) for i in cs.values]\n",
    "sl.executemany(cs_i,cs_vl)\n",
    "sql.commit()"
   ]
  },
  {
   "cell_type": "code",
   "execution_count": 642,
   "id": "20906459-fd12-44d1-83a2-d40ee764a158",
   "metadata": {},
   "outputs": [],
   "source": [
    "# Export into product sql table \n",
    "pr_i=''' insert into product values (%s,%s,%s,%s,%s);'''\n",
    "pr_vl=[tuple(i) for i in pr.values]\n",
    "sl.executemany(pr_i,pr_vl)\n",
    "sql.commit()"
   ]
  },
  {
   "cell_type": "code",
   "execution_count": 646,
   "id": "0e9daf02-7465-4880-8808-93cde33a71e8",
   "metadata": {},
   "outputs": [],
   "source": [
    "# Export into orders sql table \n",
    "od_i='''insert into orders values (%s,%s,%s,%s,%s,%s,%s);'''\n",
    "od_vl=[tuple(i) for i in od.values]\n",
    "sl.executemany(od_i,od_vl)\n",
    "sql.commit()"
   ]
  },
  {
   "cell_type": "code",
   "execution_count": 113,
   "id": "6da84470-0a15-4555-8f99-98de320c8dab",
   "metadata": {},
   "outputs": [],
   "source": [
    "# Export into transaction sql table \n",
    "tr_i=''' insert into transactions values (%s,%s,%s,%s)'''\n",
    "tr_vl=[tuple(i) for i in tr.values]\n",
    "sl.executemany(tr_i,tr_vl)\n",
    "sql.commit()"
   ]
  },
  {
   "cell_type": "code",
   "execution_count": 219,
   "id": "2c813029-65d0-4525-920f-1dd5cf7cc4bc",
   "metadata": {},
   "outputs": [],
   "source": [
    "# Export into ratings sql table \n",
    "rt_i=''' insert into rating values (%s,%s,%s,%s);'''\n",
    "rt_vl=[tuple(i) for i in rt.values]\n",
    "sl.executemany(rt_i,rt_vl)\n",
    "sql.commit()"
   ]
  },
  {
   "cell_type": "code",
   "execution_count": 229,
   "id": "159924b3-cdf4-4e34-bb90-76e074cac8bf",
   "metadata": {},
   "outputs": [],
   "source": [
    "# Export into Subscription_Plan' sql table \n",
    "sp_i=''' insert into Subscription_Plan values (%s,%s,%s);'''\n",
    "sp_vl=[tuple(i) for i in sp.values]\n",
    "sl.executemany(sp_i,sp_vl)\n",
    "sql.commit()"
   ]
  },
  {
   "cell_type": "code",
   "execution_count": 241,
   "id": "bf4601fe-e2e6-4972-9b91-cb458f132099",
   "metadata": {},
   "outputs": [],
   "source": [
    "# Export into Subscription_Details sql table \n",
    "sd_i=''' insert into Subscription_Details values (%s,%s,%s,%s,%s);'''\n",
    "sd_vl=[tuple(i) for i in sd.values]\n",
    "sl.executemany(sd_i,sd_vl)\n",
    "sql.commit()"
   ]
  },
  {
   "cell_type": "code",
   "execution_count": 253,
   "id": "2dad3e16-33a1-4744-8eeb-d0aab986deb4",
   "metadata": {},
   "outputs": [],
   "source": [
    "# Export into Delivery sql table \n",
    "dv_i=''' insert into Delivery values(%s,%s,%s); '''\n",
    "dv_vl=[tuple(i) for i in dv.values]\n",
    "sl.executemany(dv_i,dv_vl)\n",
    "sql.commit()"
   ]
  },
  {
   "cell_type": "code",
   "execution_count": 361,
   "id": "c1ddfec5-f6c6-4270-baca-6cd5799ac1dc",
   "metadata": {},
   "outputs": [],
   "source": [
    "# Export into Returns_Refund sql table \n",
    "rr_i=''' insert into return_refund values (%s,%s,%s,%s,%s);'''\n",
    "rr_vl=[tuple(i) for i in rr.values]\n",
    "sl.executemany(rr_i,rr_vl)\n",
    "sql.commit()"
   ]
  },
  {
   "cell_type": "code",
   "execution_count": null,
   "id": "e9d76d6d-2f1f-4520-83cb-14c7f0a52fe4",
   "metadata": {},
   "outputs": [],
   "source": []
  }
 ],
 "metadata": {
  "kernelspec": {
   "display_name": "Python 3 (ipykernel)",
   "language": "python",
   "name": "python3"
  },
  "language_info": {
   "codemirror_mode": {
    "name": "ipython",
    "version": 3
   },
   "file_extension": ".py",
   "mimetype": "text/x-python",
   "name": "python",
   "nbconvert_exporter": "python",
   "pygments_lexer": "ipython3",
   "version": "3.12.4"
  }
 },
 "nbformat": 4,
 "nbformat_minor": 5
}
